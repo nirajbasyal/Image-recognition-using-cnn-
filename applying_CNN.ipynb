{
  "nbformat": 4,
  "nbformat_minor": 0,
  "metadata": {
    "colab": {
      "name": "ExactSpact",
      "version": "0.3.2",
      "provenance": [],
      "collapsed_sections": []
    },
    "kernelspec": {
      "name": "python3",
      "display_name": "Python 3"
    },
    "accelerator": "GPU"
  },
  "cells": [
    {
      "cell_type": "markdown",
      "metadata": {
        "id": "ahsZQr1juyx7",
        "colab_type": "text"
      },
      "source": [
        "<h1>Image recognition using  CNN </h1>"
      ]
    },
    {
      "cell_type": "markdown",
      "metadata": {
        "id": "4eM-twsxyh4a",
        "colab_type": "text"
      },
      "source": [
        "<h2>Problem statement :-</h2>\n",
        "\n",
        "1. Extract image frames from each video and store them in folders “asset1”  and “asset2”\n",
        "\n",
        "2. Create a third folder “test”\n",
        "\n",
        "3. MOVE five images from “asset1” and asset2” to the “test” folder.\n",
        "\n",
        "4. Using the images in “asset1” and “asset2” train an image recognition model that will be able to distinguish images between images in the two folders\n",
        "\n",
        "5. Apply the model on the ten images stored in “test” folder"
      ]
    },
    {
      "cell_type": "markdown",
      "metadata": {
        "id": "BwoOFNt0zAPM",
        "colab_type": "text"
      },
      "source": [
        "In this  notebook I have convert the video files to images by using external source(VLC) which is quite easier.\n",
        "\n",
        "Both vedio are of 29 frames/second \n",
        "\n",
        "**No of Training samples = 34**\\\n",
        "**No of Testing  samples   = 10**"
      ]
    },
    {
      "cell_type": "markdown",
      "metadata": {
        "id": "7YFnjRJNvHlI",
        "colab_type": "text"
      },
      "source": [
        "## Importing the libraries"
      ]
    },
    {
      "cell_type": "code",
      "metadata": {
        "id": "ZN1qjr3s3JKt",
        "colab_type": "code",
        "colab": {}
      },
      "source": [
        "import numpy as np\n",
        "import matplotlib.pyplot as plt\n",
        "import pandas as pd\n",
        "import cv2\n",
        "% matplotlib inline\n",
        "import tensorflow as tf\n",
        "from tensorflow.keras.datasets import cifar10\n",
        "from tensorflow.keras.preprocessing.image import ImageDataGenerator, load_img\n",
        "from tensorflow.keras.models import Sequential\n",
        "from tensorflow.keras.layers import Dense, Dropout, Activation, Flatten\n",
        "from tensorflow.keras.layers import Conv2D, MaxPooling2D\n",
        "import random\n",
        "import os\n",
        "import warnings\n",
        "warnings.filterwarnings(\"ignore\")"
      ],
      "execution_count": 0,
      "outputs": []
    },
    {
      "cell_type": "markdown",
      "metadata": {
        "id": "-3R5Ufa7vP-Y",
        "colab_type": "text"
      },
      "source": [
        "## Importing dataset and image processing"
      ]
    },
    {
      "cell_type": "code",
      "metadata": {
        "id": "AHvwo1AfwZLh",
        "colab_type": "code",
        "colab": {}
      },
      "source": [
        "data='ES'\n",
        "categories = [\"asset1\",\"asset2\"]\n",
        "IMG_SIZE=350"
      ],
      "execution_count": 0,
      "outputs": []
    },
    {
      "cell_type": "code",
      "metadata": {
        "id": "j84ton414RYV",
        "colab_type": "code",
        "outputId": "0a2210c0-a08a-41d7-beb4-75a907cdfeb8",
        "colab": {
          "base_uri": "https://localhost:8080/",
          "height": 68
        }
      },
      "source": [
        "training_data = []\n",
        "from tqdm import tqdm\n",
        "def create_training_data():\n",
        "    for category in categories:\n",
        "\n",
        "        path = os.path.join(data,category) \n",
        "        class_num = categories.index(category) \n",
        "\n",
        "        for img in tqdm(os.listdir(path)): \n",
        "            try:\n",
        "                img_array = cv2.imread(os.path.join(path,img) ,cv2.IMREAD_GRAYSCALE)\n",
        "                new_array = cv2.resize(img_array, (IMG_SIZE, IMG_SIZE)) \n",
        "                training_data.append([new_array, class_num]) \n",
        "            except Exception as e: \n",
        "                pass\n",
        "            \n",
        "\n",
        "create_training_data()\n",
        "print(len(training_data))"
      ],
      "execution_count": 24,
      "outputs": [
        {
          "output_type": "stream",
          "text": [
            "100%|██████████| 17/17 [00:00<00:00, 144.38it/s]\n",
            "100%|██████████| 17/17 [00:00<00:00, 162.23it/s]"
          ],
          "name": "stderr"
        },
        {
          "output_type": "stream",
          "text": [
            "34\n"
          ],
          "name": "stdout"
        },
        {
          "output_type": "stream",
          "text": [
            "\n"
          ],
          "name": "stderr"
        }
      ]
    },
    {
      "cell_type": "markdown",
      "metadata": {
        "id": "cwCf2Jwivufi",
        "colab_type": "text"
      },
      "source": [
        "## Randomly shuffling the data"
      ]
    },
    {
      "cell_type": "code",
      "metadata": {
        "id": "Tb2R9iYbE3HE",
        "colab_type": "code",
        "outputId": "9945aedd-e23a-4247-ba06-bd98f0806b75",
        "colab": {
          "base_uri": "https://localhost:8080/",
          "height": 595
        }
      },
      "source": [
        "random.shuffle(training_data)\n",
        "for sample in training_data:\n",
        "    print(sample[1])"
      ],
      "execution_count": 25,
      "outputs": [
        {
          "output_type": "stream",
          "text": [
            "1\n",
            "0\n",
            "0\n",
            "0\n",
            "1\n",
            "1\n",
            "1\n",
            "1\n",
            "0\n",
            "1\n",
            "1\n",
            "0\n",
            "0\n",
            "0\n",
            "1\n",
            "1\n",
            "0\n",
            "1\n",
            "0\n",
            "1\n",
            "0\n",
            "1\n",
            "1\n",
            "0\n",
            "1\n",
            "1\n",
            "0\n",
            "0\n",
            "0\n",
            "1\n",
            "1\n",
            "0\n",
            "0\n",
            "0\n"
          ],
          "name": "stdout"
        }
      ]
    },
    {
      "cell_type": "markdown",
      "metadata": {
        "id": "LQk9GchJv30o",
        "colab_type": "text"
      },
      "source": [
        "## Taking Training dataset"
      ]
    },
    {
      "cell_type": "code",
      "metadata": {
        "id": "0aAQt20xGFvz",
        "colab_type": "code",
        "colab": {}
      },
      "source": [
        "X = []\n",
        "y = []\n",
        "for features,label in training_data:\n",
        "    X.append(features)\n",
        "    y.append(label)\n",
        "X = np.array(X).reshape(-1, IMG_SIZE, IMG_SIZE, 1)"
      ],
      "execution_count": 0,
      "outputs": []
    },
    {
      "cell_type": "markdown",
      "metadata": {
        "id": "f-k8ZnKfwSPJ",
        "colab_type": "text"
      },
      "source": [
        "**Normalizing the training features**"
      ]
    },
    {
      "cell_type": "code",
      "metadata": {
        "id": "tz4Qn-5lGJuy",
        "colab_type": "code",
        "colab": {}
      },
      "source": [
        "X = X/255.0"
      ],
      "execution_count": 0,
      "outputs": []
    },
    {
      "cell_type": "markdown",
      "metadata": {
        "id": "QGqEDgKewcFH",
        "colab_type": "text"
      },
      "source": [
        "## Taking Testing dataset and image processing"
      ]
    },
    {
      "cell_type": "code",
      "metadata": {
        "id": "76wO117A1OuX",
        "colab_type": "code",
        "outputId": "45ee6277-2c09-48ff-bf2b-8cf1aaa2b25a",
        "colab": {
          "base_uri": "https://localhost:8080/",
          "height": 34
        }
      },
      "source": [
        "testing_data = []\n",
        "from tqdm import tqdm\n",
        "paths='ES/test' \n",
        "\n",
        "for img in tqdm(os.listdir(paths)):\n",
        "    img_array = cv2.imread(os.path.join(paths,img) ,cv2.IMREAD_GRAYSCALE)  \n",
        "    new_array = cv2.resize(img_array, (IMG_SIZE, IMG_SIZE))  \n",
        "    testing_data.append(new_array)  \n",
        "            \n",
        "       \n"
      ],
      "execution_count": 28,
      "outputs": [
        {
          "output_type": "stream",
          "text": [
            "100%|██████████| 10/10 [00:00<00:00, 138.53it/s]\n"
          ],
          "name": "stderr"
        }
      ]
    },
    {
      "cell_type": "code",
      "metadata": {
        "id": "z6IfvOkc4Xb5",
        "colab_type": "code",
        "colab": {}
      },
      "source": [
        "X_test = []\n",
        "for fetrs in testing_data:\n",
        "    X_test.append(fetrs)\n",
        "X_test = np.array(X_test).reshape(-1, IMG_SIZE, IMG_SIZE, 1)"
      ],
      "execution_count": 0,
      "outputs": []
    },
    {
      "cell_type": "markdown",
      "metadata": {
        "id": "4GoDz4AJwrmV",
        "colab_type": "text"
      },
      "source": [
        "**Normalizing** **the** **Testing** **features**"
      ]
    },
    {
      "cell_type": "code",
      "metadata": {
        "id": "9-FNVceD4Z96",
        "colab_type": "code",
        "colab": {}
      },
      "source": [
        "X_test=X_test/255.0"
      ],
      "execution_count": 0,
      "outputs": []
    },
    {
      "cell_type": "markdown",
      "metadata": {
        "id": "eHuzFM1-xDCc",
        "colab_type": "text"
      },
      "source": [
        "## MODELLING APPLYING CNN"
      ]
    },
    {
      "cell_type": "code",
      "metadata": {
        "id": "miWwUqat7LE9",
        "colab_type": "code",
        "colab": {}
      },
      "source": [
        "model = Sequential()\n",
        "model.add(Conv2D(64,(3,3), activation = 'relu', input_shape = X.shape[1:]))\n",
        "model.add(MaxPooling2D(pool_size = (2,2)))\n",
        "model.add(Conv2D(64,(3,3), activation = 'relu'))\n",
        "model.add(MaxPooling2D(pool_size = (2,2)))\n",
        "\n",
        "model.add(Flatten())\n",
        "model.add(Dense(64, activation='relu'))\n",
        "model.add(Dense(1, activation='sigmoid'))\n",
        "\n",
        "model.compile(optimizer=\"adam\",\n",
        "              loss='binary_crossentropy',\n",
        "              metrics=['accuracy'])"
      ],
      "execution_count": 0,
      "outputs": []
    },
    {
      "cell_type": "markdown",
      "metadata": {
        "id": "kXEFXDlzxVND",
        "colab_type": "text"
      },
      "source": [
        "## Fitting the model to the training dataset"
      ]
    },
    {
      "cell_type": "code",
      "metadata": {
        "id": "HFfw8jw37NEN",
        "colab_type": "code",
        "outputId": "0e877d28-a944-4661-9c51-e448c88dca9b",
        "colab": {
          "base_uri": "https://localhost:8080/",
          "height": 173
        }
      },
      "source": [
        "model.fit(X, y, epochs=3, batch_size=2, validation_split=0.1)"
      ],
      "execution_count": 32,
      "outputs": [
        {
          "output_type": "stream",
          "text": [
            "Train on 30 samples, validate on 4 samples\n",
            "Epoch 1/3\n",
            "30/30 [==============================] - 2s 55ms/sample - loss: 1.1630 - acc: 0.9000 - val_loss: 1.0480e-07 - val_acc: 1.0000\n",
            "Epoch 2/3\n",
            "30/30 [==============================] - 1s 43ms/sample - loss: 1.1024e-07 - acc: 1.0000 - val_loss: 3.6264e-07 - val_acc: 1.0000\n",
            "Epoch 3/3\n",
            "30/30 [==============================] - 1s 43ms/sample - loss: 6.0963e-05 - acc: 1.0000 - val_loss: 1.0480e-07 - val_acc: 1.0000\n"
          ],
          "name": "stdout"
        },
        {
          "output_type": "execute_result",
          "data": {
            "text/plain": [
              "<tensorflow.python.keras.callbacks.History at 0x7f8b0c103208>"
            ]
          },
          "metadata": {
            "tags": []
          },
          "execution_count": 32
        }
      ]
    },
    {
      "cell_type": "markdown",
      "metadata": {
        "id": "L3G3o_XJxdPM",
        "colab_type": "text"
      },
      "source": [
        "## Predicting on Test data"
      ]
    },
    {
      "cell_type": "code",
      "metadata": {
        "id": "D_3inkff705T",
        "colab_type": "code",
        "colab": {}
      },
      "source": [
        "prediction = model.predict(X_test)"
      ],
      "execution_count": 0,
      "outputs": []
    },
    {
      "cell_type": "code",
      "metadata": {
        "id": "2WqhkkZI8YeS",
        "colab_type": "code",
        "outputId": "616755dd-841c-4c38-9198-2dcc333d0e07",
        "colab": {
          "base_uri": "https://localhost:8080/",
          "height": 34
        }
      },
      "source": [
        "prediction.shape"
      ],
      "execution_count": 34,
      "outputs": [
        {
          "output_type": "execute_result",
          "data": {
            "text/plain": [
              "(10, 1)"
            ]
          },
          "metadata": {
            "tags": []
          },
          "execution_count": 34
        }
      ]
    },
    {
      "cell_type": "markdown",
      "metadata": {
        "id": "xzVSqjDGxlvT",
        "colab_type": "text"
      },
      "source": [
        "## Now saving the Testing result on csv file"
      ]
    },
    {
      "cell_type": "code",
      "metadata": {
        "id": "VSXjQeVF8b6Y",
        "colab_type": "code",
        "colab": {}
      },
      "source": [
        "id_line = []\n",
        "for p in os.listdir(paths):\n",
        "        id_line.append(p.split(\".\")[0])"
      ],
      "execution_count": 0,
      "outputs": []
    },
    {
      "cell_type": "code",
      "metadata": {
        "id": "z8uLk-L1t3WD",
        "colab_type": "code",
        "colab": {}
      },
      "source": [
        "#prediction are in 2d array we are converting 2d into 1d\n",
        "pred_value=np.reshape(prediction,(10))"
      ],
      "execution_count": 0,
      "outputs": []
    },
    {
      "cell_type": "code",
      "metadata": {
        "id": "Vu_T-9rb-0OT",
        "colab_type": "code",
        "colab": {}
      },
      "source": [
        "submission_df = pd.DataFrame({'id':id_line, 'label': pred_value })"
      ],
      "execution_count": 0,
      "outputs": []
    },
    {
      "cell_type": "code",
      "metadata": {
        "id": "K1FScwTreYrm",
        "colab_type": "code",
        "colab": {}
      },
      "source": [
        "submission_df.to_csv(\"Test_result.csv\", index=False)"
      ],
      "execution_count": 0,
      "outputs": []
    },
    {
      "cell_type": "code",
      "metadata": {
        "id": "rflS-N8_5FX9",
        "colab_type": "code",
        "colab": {}
      },
      "source": [
        ""
      ],
      "execution_count": 0,
      "outputs": []
    }
  ]
}
